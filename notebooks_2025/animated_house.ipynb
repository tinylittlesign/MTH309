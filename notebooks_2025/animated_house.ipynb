{
 "cells": [
  {
   "cell_type": "markdown",
   "metadata": {},
   "source": [
    "## Execute the cell below before proceeding.\n",
    "The code in this cell will download file with a Python script from the Internet. Make sure that you have a network connection before executing it."
   ]
  },
  {
   "cell_type": "code",
   "execution_count": 1,
   "metadata": {},
   "outputs": [],
   "source": [
    "import requests\n",
    "with open(\"animated_house.py\", 'w') as foo:\n",
    "    foo.write(requests.get(\"https://raw.githubusercontent.com/tinylittlesign/MTH309/master/notebooks_2025/animated_house.py\").text)\n",
    "from animated_house import *"
   ]
  },
  {
   "cell_type": "markdown",
   "metadata": {},
   "source": [
    "# Animated house"
   ]
  },
  {
   "cell_type": "markdown",
   "metadata": {},
   "source": [
    "This notebook demonstrates how matrix transformations can be used to produce animated graphics. Execute the cell below to \n",
    "produce an animated image of a house. This animation consists of several frames. Each frame is obtained by applying a certain matrix transformation to the original image. Since matrices representing these transformations vary only slightly from one frame to the next, we obtain an illusion of a smooth motion. \n",
    "\n",
    "The `delay` parameter controls how long each frame is displayed. By changing it to a larger value you will be able to see each individual frame. "
   ]
  },
  {
   "cell_type": "code",
   "execution_count": null,
   "metadata": {},
   "outputs": [],
   "source": [
    "from IPython.display import HTML\n",
    "\n",
    "ani = animated_house(delay = 50)\n",
    "plt.close()\n",
    "HTML(ani.to_jshtml())"
   ]
  }
 ],
 "metadata": {
  "kernelspec": {
   "display_name": "Python 3 (ipykernel)",
   "language": "python",
   "name": "python3"
  },
  "language_info": {
   "codemirror_mode": {
    "name": "ipython",
    "version": 3
   },
   "file_extension": ".py",
   "mimetype": "text/x-python",
   "name": "python",
   "nbconvert_exporter": "python",
   "pygments_lexer": "ipython3",
   "version": "3.12.7"
  }
 },
 "nbformat": 4,
 "nbformat_minor": 4
}
